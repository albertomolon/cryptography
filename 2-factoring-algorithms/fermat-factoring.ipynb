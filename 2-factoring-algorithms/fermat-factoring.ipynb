{
 "cells": [
  {
   "cell_type": "markdown",
   "metadata": {},
   "source": [
    "# Fermat factoring algorithm"
   ]
  },
  {
   "cell_type": "markdown",
   "metadata": {},
   "source": [
    "It is based on the key fact (by Fermat) that if $n$ is odd, then $n = x^2 - y^2 = (x + y) * (x - y)$, where $x$ and $y$ are two integer numbers.\n",
    "Obviously, we are looking for (at least) one non-trivial factor, i.e. a factor s.t. $x - y \\neq 1$ and/or $x + y \\neq n$."
   ]
  },
  {
   "cell_type": "code",
   "execution_count": 2,
   "metadata": {},
   "outputs": [],
   "source": [
    "from math import ceil, sqrt"
   ]
  },
  {
   "cell_type": "code",
   "execution_count": 3,
   "metadata": {},
   "outputs": [
    {
     "name": "stdout",
     "output_type": "stream",
     "text": [
      "Insert an odd number n:\n",
      "6978643725301034687\n"
     ]
    }
   ],
   "source": [
    "print('Insert an odd number n:')\n",
    "n = int(input())"
   ]
  },
  {
   "cell_type": "code",
   "execution_count": 4,
   "metadata": {},
   "outputs": [
    {
     "name": "stdout",
     "output_type": "stream",
     "text": [
      "One factor of n = 6978643725301034687 is m = 2147990771\n"
     ]
    }
   ],
   "source": [
    "if n % 2 == 0:\n",
    "    print('The number inserted is not odd!')\n",
    "else:\n",
    "    x = ceil(sqrt(n))\n",
    "    y2 = pow(x,2) - n\n",
    "\n",
    "    while True:\n",
    "        if y2 == pow(ceil(sqrt(y2)),2):     # check if x2 is an integral power (e.g. x2=125 is not!)\n",
    "            break\n",
    "        x += 1\n",
    "        y2 = pow(x,2) - n\n",
    "\n",
    "    print('One factor of n = ' + str(n) + ' is m = ' + str(int(x - sqrt(y2))))"
   ]
  }
 ],
 "metadata": {
  "kernelspec": {
   "display_name": "Python 3",
   "language": "python",
   "name": "python3"
  },
  "language_info": {
   "codemirror_mode": {
    "name": "ipython",
    "version": 3
   },
   "file_extension": ".py",
   "mimetype": "text/x-python",
   "name": "python",
   "nbconvert_exporter": "python",
   "pygments_lexer": "ipython3",
   "version": "3.8.5"
  }
 },
 "nbformat": 4,
 "nbformat_minor": 4
}
