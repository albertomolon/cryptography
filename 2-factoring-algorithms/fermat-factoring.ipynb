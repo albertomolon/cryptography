{
 "cells": [
  {
   "cell_type": "markdown",
   "metadata": {},
   "source": [
    "# Fermat factoring algorithm"
   ]
  },
  {
   "cell_type": "code",
   "execution_count": 1,
   "metadata": {},
   "outputs": [],
   "source": [
    "from mpmath import fdiv, power, sqrt, ceil, floor\n",
    "from sympy import Mod"
   ]
  },
  {
   "cell_type": "code",
   "execution_count": 2,
   "metadata": {},
   "outputs": [
    {
     "name": "stdout",
     "output_type": "stream",
     "text": [
      "Insert an odd number n:\n",
      "35\n"
     ]
    }
   ],
   "source": [
    "print('Insert an odd number n:')\n",
    "n = int(input())"
   ]
  },
  {
   "cell_type": "code",
   "execution_count": 3,
   "metadata": {},
   "outputs": [
    {
     "name": "stdout",
     "output_type": "stream",
     "text": [
      "One factor of n = 35 is m = 5.0\n"
     ]
    }
   ],
   "source": [
    "if Mod(n,2) == 0:\n",
    "    print('The number inserted is not odd!')\n",
    "    \n",
    "else:\n",
    "    x = ceil(sqrt(n))\n",
    "    y2 = power(x,2) - n\n",
    "\n",
    "    while True:\n",
    "        if y2 == power(ceil(sqrt(y2)),2):        # check if x2 is an integral power (e.g. x2=125 is not!)\n",
    "            break\n",
    "        x += 1\n",
    "        y2 = power(x,2) - n\n",
    "\n",
    "    print('One factor of n = ' + str(n) + ' is m = ' + str(x-sqrt(y2)))"
   ]
  }
 ],
 "metadata": {
  "kernelspec": {
   "display_name": "Python 3",
   "language": "python",
   "name": "python3"
  },
  "language_info": {
   "codemirror_mode": {
    "name": "ipython",
    "version": 3
   },
   "file_extension": ".py",
   "mimetype": "text/x-python",
   "name": "python",
   "nbconvert_exporter": "python",
   "pygments_lexer": "ipython3",
   "version": "3.8.5"
  }
 },
 "nbformat": 4,
 "nbformat_minor": 4
}
