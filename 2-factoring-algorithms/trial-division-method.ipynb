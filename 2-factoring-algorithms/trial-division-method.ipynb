{
 "cells": [
  {
   "cell_type": "markdown",
   "metadata": {},
   "source": [
    "# Trial-division method"
   ]
  },
  {
   "cell_type": "code",
   "execution_count": 1,
   "metadata": {},
   "outputs": [],
   "source": [
    "from sympy import Mod"
   ]
  },
  {
   "cell_type": "code",
   "execution_count": 2,
   "metadata": {},
   "outputs": [
    {
     "name": "stdout",
     "output_type": "stream",
     "text": [
      "Insert the number n:\n",
      "34\n",
      "Insert the bound t:\n",
      "28\n"
     ]
    }
   ],
   "source": [
    "print('Insert the number n:')\n",
    "n = int(input())\n",
    "print('Insert the bound t:')\n",
    "t = int(input())"
   ]
  },
  {
   "cell_type": "code",
   "execution_count": 3,
   "metadata": {},
   "outputs": [
    {
     "name": "stdout",
     "output_type": "stream",
     "text": [
      "One factor of n = 34 is m = 2\n"
     ]
    }
   ],
   "source": [
    "check = True\n",
    "for m in range(2, t+1):\n",
    "    if Mod(n,m) == 0:\n",
    "        print('One factor of n = ' + str(n) + ' is m = ' + str(m))\n",
    "        check = False\n",
    "        break"
   ]
  },
  {
   "cell_type": "code",
   "execution_count": 4,
   "metadata": {},
   "outputs": [],
   "source": [
    "if check:\n",
    "    print('The number n = ' + str(n) + ' has not divisors up to t = ' + str(t))"
   ]
  }
 ],
 "metadata": {
  "kernelspec": {
   "display_name": "Python 3",
   "language": "python",
   "name": "python3"
  },
  "language_info": {
   "codemirror_mode": {
    "name": "ipython",
    "version": 3
   },
   "file_extension": ".py",
   "mimetype": "text/x-python",
   "name": "python",
   "nbconvert_exporter": "python",
   "pygments_lexer": "ipython3",
   "version": "3.8.5"
  }
 },
 "nbformat": 4,
 "nbformat_minor": 4
}
