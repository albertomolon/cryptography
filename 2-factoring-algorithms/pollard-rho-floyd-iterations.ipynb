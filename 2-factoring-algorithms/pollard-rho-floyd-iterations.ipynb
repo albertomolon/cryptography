{
 "cells": [
  {
   "cell_type": "markdown",
   "metadata": {},
   "source": [
    "# Pollard's rho method (with Floyd iterations)"
   ]
  },
  {
   "cell_type": "code",
   "execution_count": 1,
   "metadata": {},
   "outputs": [],
   "source": [
    "import random\n",
    "from sympy import igcd, Mod, Integer\n",
    "from mpmath import power"
   ]
  },
  {
   "cell_type": "code",
   "execution_count": 2,
   "metadata": {},
   "outputs": [
    {
     "name": "stdout",
     "output_type": "stream",
     "text": [
      "Insert an odd number n:\n",
      "33\n",
      "Insert a bound T:\n",
      "12\n"
     ]
    }
   ],
   "source": [
    "print('Insert an odd number n:')\n",
    "n = int(input())\n",
    "print('Insert a bound T:')\n",
    "t = int(input())"
   ]
  },
  {
   "cell_type": "code",
   "execution_count": 3,
   "metadata": {},
   "outputs": [
    {
     "name": "stdout",
     "output_type": "stream",
     "text": [
      "Zn : [0, 1, 2, 3, 4, 5, 6, 7, 8, 9, 10, 11, 12, 13, 14, 15, 16, 17, 18, 19, 20, 21, 22, 23, 24, 25, 26, 27, 28, 29, 30, 31, 32]\n",
      "The random choice is a = 20\n",
      "One factor of n = 33 is d = 3\n"
     ]
    }
   ],
   "source": [
    "if Mod(n,2) == 0:\n",
    "    print('The number inserted is not odd!')\n",
    "else:\n",
    "    zn = [x for x in range(n)]\n",
    "    print('Zn :', zn)\n",
    "    a = random.choice(zn)\n",
    "    print('The random choice is a = ' + str(a))\n",
    "    \n",
    "    y1 = Mod(power(a,2)+1, n)                        # compute first and second iterates\n",
    "    y2 = Mod(power(y1,2)+1, n)\n",
    "    m = 1\n",
    "    check = True\n",
    "    while m <= t:\n",
    "        d = igcd(Integer(y1-y2), n)           # convert y1-y2 from float to integer in order to apply igcd\n",
    "        if d > 1 and d < n:\n",
    "            print('One factor of n = ' + str(n) + ' is d = ' + str(d))\n",
    "            check = False\n",
    "            break\n",
    "        else:\n",
    "            m += 1\n",
    "            y1 = y2\n",
    "            y2 = Mod(power(y1,2)+1, n)\n",
    "            print(y1, y2)\n",
    "    \n",
    "    if check:\n",
    "        print('No non-trivial factors of n = ' + str(n) + ' have been found after T = ' + str(t) + ' iterations.')\n",
    "        print('Restart the algorithm with a larger T or a new random choice.')"
   ]
  },
  {
   "cell_type": "code",
   "execution_count": null,
   "metadata": {},
   "outputs": [],
   "source": []
  },
  {
   "cell_type": "code",
   "execution_count": null,
   "metadata": {},
   "outputs": [],
   "source": []
  },
  {
   "cell_type": "code",
   "execution_count": null,
   "metadata": {},
   "outputs": [],
   "source": []
  }
 ],
 "metadata": {
  "kernelspec": {
   "display_name": "Python 3",
   "language": "python",
   "name": "python3"
  },
  "language_info": {
   "codemirror_mode": {
    "name": "ipython",
    "version": 3
   },
   "file_extension": ".py",
   "mimetype": "text/x-python",
   "name": "python",
   "nbconvert_exporter": "python",
   "pygments_lexer": "ipython3",
   "version": "3.8.5"
  }
 },
 "nbformat": 4,
 "nbformat_minor": 4
}
