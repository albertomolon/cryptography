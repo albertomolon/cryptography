{
 "cells": [
  {
   "cell_type": "markdown",
   "metadata": {},
   "source": [
    "# Agrawal - Kayal - Saxena (AKS) algorithm"
   ]
  },
  {
   "cell_type": "markdown",
   "metadata": {},
   "source": [
    "This is an easier version of the AKS primality algorithm based on the AKS theorem. It is an easier version since it exploits the following lemma (instead of one of the condition of the AKS theorem): \n",
    "\n",
    "\"$n \\in \\mathbb{N}$ is prime $\\iff$ $(x + b)^n \\equiv x^n + b \\bmod n$, $\\,\\,$ $\\forall b \\in \\mathbb{N}$\"."
   ]
  },
  {
   "cell_type": "code",
   "execution_count": 1,
   "metadata": {},
   "outputs": [],
   "source": [
    "import sys\n",
    "import mpmath as mp\n",
    "from sympy import igcd, perfect_power, Mod\n",
    "from sympy import Integer\n",
    "from sympy import Symbol, Poly"
   ]
  },
  {
   "cell_type": "code",
   "execution_count": 2,
   "metadata": {},
   "outputs": [],
   "source": [
    "def compute_r(n):\n",
    "    max_order = mp.floor(mp.power(mp.log(n,2), 2))\n",
    "    # print('max order =', max_order)\n",
    "\n",
    "    max_r = mp.ceil(mp.power(mp.log(n,2), 5))\n",
    "    # print('max r =', max_r)\n",
    "    all_r = [Integer(j) for j in mp.arange(2, max_r)]\n",
    "\n",
    "    for r in all_r:\n",
    "        g = igcd(n,r)\n",
    "        if g != 1:\n",
    "            continue\n",
    "\n",
    "        set_orders = []\n",
    "        c = 2\n",
    "        for i in mp.arange(2, max_order):\n",
    "            item = mp.fmod(mp.power(n,i), r)\n",
    "            # print('item =', item)\n",
    "\n",
    "            if item == 1 or item == 0:\n",
    "                break\n",
    "            else:\n",
    "                set_orders.append(i)\n",
    "                c += 1\n",
    "                continue\n",
    "\n",
    "        if set_orders != [] and c == max_order:\n",
    "            # print(set_orders)\n",
    "            break\n",
    "\n",
    "    # print('r =', r)\n",
    "    return r"
   ]
  },
  {
   "cell_type": "code",
   "execution_count": 3,
   "metadata": {},
   "outputs": [
    {
     "name": "stdout",
     "output_type": "stream",
     "text": [
      "Insert a number n:\n",
      "35\n"
     ]
    }
   ],
   "source": [
    "print('Insert a number n:')\n",
    "n = int(input())\n",
    "\n",
    "if perfect_power(n) != False:\n",
    "    print('The number n =', n, 'is composite.')\n",
    "#     sys.exit()\n",
    "\n",
    "r = compute_r(n)\n",
    "if n <= r:\n",
    "    print('The number n =', n, 'is prime.')\n",
    "#     sys.exit()"
   ]
  },
  {
   "cell_type": "code",
   "execution_count": 4,
   "metadata": {},
   "outputs": [],
   "source": [
    "##### Code snippet to find the order of corresponding r and root n #####\n",
    "# for i in range(2, upper_bound):            # insert your upper_bound\n",
    "# item = mp.fmod(mp.power(n, i), r)\n",
    "# print(str(i) + ' ' + str(temp))\n",
    "# if temp == 1:\n",
    "#     break"
   ]
  },
  {
   "cell_type": "code",
   "execution_count": 5,
   "metadata": {},
   "outputs": [
    {
     "name": "stdout",
     "output_type": "stream",
     "text": [
      "The number n = 35 is composite.\n"
     ]
    }
   ],
   "source": [
    "x = Symbol('x')\n",
    "expr = (x - 1)**n - (x**n - 1)    # I use b = 1\n",
    "a = Poly(expr, x)\n",
    "coeff = a.coeffs()\n",
    "\n",
    "# print(coeff)\n",
    "check = True\n",
    "\n",
    "for c in coeff:\n",
    "    if Mod(c, n) != 0:\n",
    "        check = False\n",
    "        break\n",
    "\n",
    "if check:\n",
    "    print('The number n =', n, 'is prime.')\n",
    "else:\n",
    "    print('The number n =', n, 'is composite.')"
   ]
  }
 ],
 "metadata": {
  "kernelspec": {
   "display_name": "Python 3",
   "language": "python",
   "name": "python3"
  },
  "language_info": {
   "codemirror_mode": {
    "name": "ipython",
    "version": 3
   },
   "file_extension": ".py",
   "mimetype": "text/x-python",
   "name": "python",
   "nbconvert_exporter": "python",
   "pygments_lexer": "ipython3",
   "version": "3.8.5"
  }
 },
 "nbformat": 4,
 "nbformat_minor": 4
}
