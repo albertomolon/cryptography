{
 "cells": [
  {
   "cell_type": "markdown",
   "metadata": {},
   "source": [
    "# Eratosthenes' sieve"
   ]
  },
  {
   "cell_type": "markdown",
   "metadata": {},
   "source": [
    "This algorithm takes as input a number $n \\in \\mathbb{N}$ and outputs the list of primes up to $n$.\n",
    "\n",
    "The idea is the following:\n",
    "- compute the list of odd numbers up to $n$;\n",
    "- start with the first odd prime, i.e. $p = 3$;\n",
    "- erase all multiple numbers of $p$ up to $n$ (note that the first number to be canceled out is $p^2$);\n",
    "- move to the next non-erased number of the list;\n",
    "- iterate the previous points until you reached $\\sqrt{n}$."
   ]
  },
  {
   "cell_type": "markdown",
   "metadata": {},
   "source": [
    "This implementation has two advantages:\n",
    "- instead of using a list of all (prime) numbers, it uses a \"mask\" list with True/False values, where 'True' indicates that the number in that position is prime => space saving!\n",
    "- even numbers aren't considered since they are multiple of 2 => save one iteration."
   ]
  },
  {
   "cell_type": "code",
   "execution_count": 1,
   "metadata": {},
   "outputs": [],
   "source": [
    "from math import sqrt, ceil\n",
    "from itertools import compress"
   ]
  },
  {
   "cell_type": "code",
   "execution_count": 2,
   "metadata": {},
   "outputs": [
    {
     "name": "stdout",
     "output_type": "stream",
     "text": [
      "Insert a number:\n",
      "56\n"
     ]
    }
   ],
   "source": [
    "print('Insert a number:')\n",
    "n = int(input())\n",
    "\n",
    "list_odds = [1, 2] + [x for x in range(3,n) if x % 2 != 0]\n",
    "length = len(list_odds)\n",
    "\n",
    "mask = [True for i in range(length)]\n",
    "index = 2                              # start from 3, which has position two\n",
    "p = list_odds[index]"
   ]
  },
  {
   "cell_type": "code",
   "execution_count": 3,
   "metadata": {},
   "outputs": [],
   "source": [
    "while p**2 <= n:\n",
    "    if mask[index] == True:\n",
    "        index2 = list_odds.index(p**2)        # take the position of p**2...\n",
    "        for i in range(index2, length, p):\n",
    "            mask[i] = False                   # ... and put False for positions of all values like p**2 + i*p\n",
    "    index += 1\n",
    "    p = list_odds[index]"
   ]
  },
  {
   "cell_type": "code",
   "execution_count": 4,
   "metadata": {},
   "outputs": [
    {
     "name": "stdout",
     "output_type": "stream",
     "text": [
      "The list of all primes up to 56 is the following:\n",
      "[1, 2, 3, 5, 7, 11, 13, 17, 19, 23, 29, 31, 37, 41, 43, 47, 53]\n"
     ]
    }
   ],
   "source": [
    "print('The list of all primes up to ' + str(n) + ' is the following:')\n",
    "print(list(compress(list_odds, mask)))"
   ]
  }
 ],
 "metadata": {
  "kernelspec": {
   "display_name": "Python 3",
   "language": "python",
   "name": "python3"
  },
  "language_info": {
   "codemirror_mode": {
    "name": "ipython",
    "version": 3
   },
   "file_extension": ".py",
   "mimetype": "text/x-python",
   "name": "python",
   "nbconvert_exporter": "python",
   "pygments_lexer": "ipython3",
   "version": "3.8.5"
  }
 },
 "nbformat": 4,
 "nbformat_minor": 4
}
