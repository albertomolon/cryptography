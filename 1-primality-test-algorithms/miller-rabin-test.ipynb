{
 "cells": [
  {
   "cell_type": "markdown",
   "metadata": {},
   "source": [
    "# Miller-Rabin's test"
   ]
  },
  {
   "cell_type": "markdown",
   "metadata": {},
   "source": [
    "This is a strong-pseudoprimality algorithm based on the Miller-Rabin's theorem, i.e. it outputs whether an input number $n \\in \\mathbb{N}$ is composite or prime/strong-pseudoprime."
   ]
  },
  {
   "cell_type": "code",
   "execution_count": 1,
   "metadata": {},
   "outputs": [],
   "source": [
    "import mpmath as mp\n",
    "from math import gcd"
   ]
  },
  {
   "cell_type": "code",
   "execution_count": 2,
   "metadata": {},
   "outputs": [],
   "source": [
    "def compute_s_d(n):\n",
    "    s = 0\n",
    "    d = 0\n",
    "    q = n\n",
    "    while q % 2 == 0:\n",
    "        q /= 2\n",
    "        s += 1\n",
    "\n",
    "    d = int(n / mp.power(2,s))\n",
    "    return(s,d)"
   ]
  },
  {
   "cell_type": "code",
   "execution_count": 7,
   "metadata": {},
   "outputs": [
    {
     "name": "stdout",
     "output_type": "stream",
     "text": [
      "Insert an odd number 'n' and the witnesses 'a':\n",
      "23 3\n"
     ]
    }
   ],
   "source": [
    "print('Insert an odd number \\'n\\' and the witnesses \\'a\\':')\n",
    "n, a = [int(x) for x in input().split(' ')]    # n = odd number, a = witness natural number\n",
    "\n",
    "# pick a random a belonging to [1, ..., n-1]"
   ]
  },
  {
   "cell_type": "code",
   "execution_count": 4,
   "metadata": {},
   "outputs": [
    {
     "name": "stdout",
     "output_type": "stream",
     "text": [
      "s = 1, d = 11\n"
     ]
    }
   ],
   "source": [
    "s, d = compute_s_d(n-1)\n",
    "print('s = ' + str(s) + ', d = ' + str(d))"
   ]
  },
  {
   "cell_type": "code",
   "execution_count": 5,
   "metadata": {},
   "outputs": [
    {
     "name": "stdout",
     "output_type": "stream",
     "text": [
      "The number n = 23 is prime or it is strong-pseudoprime in base a = 3.\n"
     ]
    }
   ],
   "source": [
    "if gcd(a,n) > 1:\n",
    "    print('The number n = ' + str(n) + ' is composite.')\n",
    "else:\n",
    "    b = mp.fmod(mp.power(a,d), n)\n",
    "    # print(b)\n",
    "\n",
    "    if (mp.fmod(b,n) == 1) or (mp.fmod(b,n) == -1):\n",
    "        print('The number n = '+ str(n) + ' is prime or it is strong-pseudoprime in base a = '+ str(a) +'.')\n",
    "    else:\n",
    "        e = 0\n",
    "        while e < s:\n",
    "            b = mp.fmod(mp.power(b, 2), n)\n",
    "            # print(b)\n",
    "            # print(b % n)\n",
    "            if (mp.fmod(b,n) == 1) or (mp.fmod(b,n) == -1):\n",
    "                break;\n",
    "            e += 1\n",
    "\n",
    "        if (mp.fmod(b,n) != 1) and (mp.fmod(b,n) != -1):\n",
    "            print('The number n = ' + str(n) + ' is composite.')\n",
    "        if (mp.fmod(b,n) == 1) or (mp.fmod(b,n) == -1):\n",
    "            print('The number n = '+ str(n) + ' is prime or it is strong-pseudoprime in base a = '+ str(a) +'.')"
   ]
  }
 ],
 "metadata": {
  "kernelspec": {
   "display_name": "Python 3",
   "language": "python",
   "name": "python3"
  },
  "language_info": {
   "codemirror_mode": {
    "name": "ipython",
    "version": 3
   },
   "file_extension": ".py",
   "mimetype": "text/x-python",
   "name": "python",
   "nbconvert_exporter": "python",
   "pygments_lexer": "ipython3",
   "version": "3.8.5"
  }
 },
 "nbformat": 4,
 "nbformat_minor": 4
}
